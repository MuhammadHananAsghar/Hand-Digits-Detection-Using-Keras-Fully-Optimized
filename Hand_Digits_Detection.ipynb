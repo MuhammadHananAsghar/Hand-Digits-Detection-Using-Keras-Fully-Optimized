{
  "nbformat": 4,
  "nbformat_minor": 0,
  "metadata": {
    "accelerator": "GPU",
    "colab": {
      "name": "Hand Digits Detection.ipynb",
      "provenance": [],
      "collapsed_sections": []
    },
    "kernelspec": {
      "display_name": "Python 3",
      "name": "python3"
    }
  },
  "cells": [
    {
      "cell_type": "markdown",
      "metadata": {
        "id": "PhCjGw0EFz9Y"
      },
      "source": [
        "**Created And Trained By Muhammad Hanan Asghar**"
      ]
    },
    {
      "cell_type": "code",
      "metadata": {
        "colab": {
          "base_uri": "https://localhost:8080/"
        },
        "id": "ZVuvY10Ns0jH",
        "outputId": "3e43eabd-5fbd-448c-a651-6e6ebc1d5c52"
      },
      "source": [
        "from google.colab import drive\n",
        "drive.mount('/gdrive')\n",
        "%cd /gdrive"
      ],
      "execution_count": null,
      "outputs": [
        {
          "output_type": "stream",
          "text": [
            "Mounted at /gdrive\n",
            "/gdrive\n"
          ],
          "name": "stdout"
        }
      ]
    },
    {
      "cell_type": "code",
      "metadata": {
        "id": "flRo4nXRs6Ko"
      },
      "source": [
        "import zipfile\n",
        "zip_ref = zipfile.ZipFile('/gdrive/MyDrive/datasetsofhandsimages.zip','r')\n",
        "zip_ref.extractall(\"/content\")\n",
        "zip_ref.close()"
      ],
      "execution_count": null,
      "outputs": []
    },
    {
      "cell_type": "code",
      "metadata": {
        "id": "Cy2HVDe6tlbH"
      },
      "source": [
        "import os"
      ],
      "execution_count": null,
      "outputs": []
    },
    {
      "cell_type": "code",
      "metadata": {
        "id": "h97m2K-ptYou"
      },
      "source": [
        "BASE_DIR = '/content/datasets'\n",
        "\n",
        "TRAIN_DIR = os.path.join(BASE_DIR, 'train')\n",
        "TEST_DIR = os.path.join(BASE_DIR, 'test')"
      ],
      "execution_count": null,
      "outputs": []
    },
    {
      "cell_type": "code",
      "metadata": {
        "id": "JsAobWIotsif"
      },
      "source": [
        "!rm -rf /content/output\n",
        "!mkdir /content/output"
      ],
      "execution_count": null,
      "outputs": []
    },
    {
      "cell_type": "code",
      "metadata": {
        "colab": {
          "base_uri": "https://localhost:8080/"
        },
        "id": "Q7tSeRxruGdJ",
        "outputId": "107df4c8-e560-4078-c9d5-449edf1a2fe8"
      },
      "source": [
        "!pip -q install keras-tuner"
      ],
      "execution_count": null,
      "outputs": [
        {
          "output_type": "stream",
          "text": [
            "\u001b[?25l\r\u001b[K     |█████▏                          | 10kB 23.1MB/s eta 0:00:01\r\u001b[K     |██████████▍                     | 20kB 20.0MB/s eta 0:00:01\r\u001b[K     |███████████████▋                | 30kB 16.8MB/s eta 0:00:01\r\u001b[K     |████████████████████▉           | 40kB 15.8MB/s eta 0:00:01\r\u001b[K     |██████████████████████████      | 51kB 12.7MB/s eta 0:00:01\r\u001b[K     |███████████████████████████████▎| 61kB 12.8MB/s eta 0:00:01\r\u001b[K     |████████████████████████████████| 71kB 7.1MB/s \n",
            "\u001b[?25h  Building wheel for keras-tuner (setup.py) ... \u001b[?25l\u001b[?25hdone\n",
            "  Building wheel for terminaltables (setup.py) ... \u001b[?25l\u001b[?25hdone\n"
          ],
          "name": "stdout"
        }
      ]
    },
    {
      "cell_type": "code",
      "metadata": {
        "id": "bacheUJWt_su"
      },
      "source": [
        "import keras\n",
        "from keras.layers import Conv2D, MaxPooling2D, Flatten\n",
        "from keras.models import Sequential\n",
        "from keras.layers import Dense, Dropout\n",
        "from keras.preprocessing.image import ImageDataGenerator\n",
        "from keras.callbacks import EarlyStopping\n",
        "from kerastuner import RandomSearch"
      ],
      "execution_count": null,
      "outputs": []
    },
    {
      "cell_type": "code",
      "metadata": {
        "id": "HWnEK97YuDsP"
      },
      "source": [
        "def Model(hp):\n",
        "  cnn = Sequential()\n",
        "  cnn.add(Conv2D(filters=hp.Int('conv_1_filter', min_value=32, max_value=128, step=16),\n",
        "                 kernel_size=hp.Choice('conv_1_kernel', values = [3,5]),\n",
        "                 input_shape=(64, 64, 3), \n",
        "                 activation='relu')) \n",
        "  \n",
        "  cnn.add(MaxPooling2D(pool_size=(2, 2)))\n",
        "   \n",
        "  cnn.add(Conv2D(filters=hp.Int('conv_2_filter', min_value=32, max_value=128, step=16),\n",
        "                 kernel_size=hp.Choice('conv_2_kernel', values = [3,5]),\n",
        "                 activation='relu'))\n",
        "  \n",
        "  cnn.add(MaxPooling2D(pool_size=(2, 2)))\n",
        "  \n",
        "  cnn.add(Flatten())\n",
        "\n",
        "  cnn.add(Dense(units=hp.Int('dense_1_units', \n",
        "                min_value=64, max_value=512, step=16),\n",
        "                activation='relu'))\n",
        "  \n",
        "  cnn.add(Dropout(rate=0.5))\n",
        "\n",
        "  cnn.add(Dense(units=5, activation='softmax'))\n",
        "\n",
        "  cnn.compile(optimizer=keras.optimizers.Adam(hp.Choice('learning_rate', values=[1e-2, 1e-3])),\n",
        "              loss='categorical_crossentropy',\n",
        "              metrics=['accuracy'])\n",
        "  return cnn"
      ],
      "execution_count": null,
      "outputs": []
    },
    {
      "cell_type": "code",
      "metadata": {
        "id": "06L3_0iquJjK"
      },
      "source": [
        "tuner = RandomSearch(Model,\n",
        "                    objective='val_accuracy',\n",
        "                    max_trials=4,\n",
        "                    directory='/content/output',\n",
        "                    project_name=\"Hands Digits Detection\")"
      ],
      "execution_count": null,
      "outputs": []
    },
    {
      "cell_type": "code",
      "metadata": {
        "colab": {
          "base_uri": "https://localhost:8080/",
          "height": 35
        },
        "id": "jvvBsjEOvvdI",
        "outputId": "b96b77a8-eac5-4c51-89e8-3a0a25ddc306"
      },
      "source": [
        "TRAIN_DIR"
      ],
      "execution_count": null,
      "outputs": [
        {
          "output_type": "execute_result",
          "data": {
            "application/vnd.google.colaboratory.intrinsic+json": {
              "type": "string"
            },
            "text/plain": [
              "'/content/datasets/train'"
            ]
          },
          "metadata": {
            "tags": []
          },
          "execution_count": 44
        }
      ]
    },
    {
      "cell_type": "code",
      "metadata": {
        "colab": {
          "base_uri": "https://localhost:8080/"
        },
        "id": "0wY2MqfguSbi",
        "outputId": "8b40efca-f00d-41ec-9c26-c70fb0c606cc"
      },
      "source": [
        "train_datagen = ImageDataGenerator(\n",
        "        rescale=1./255,\n",
        "        shear_range=0.2,\n",
        "        zoom_range=0.2,\n",
        "        horizontal_flip=True)\n",
        "\n",
        "test_datagen = ImageDataGenerator(rescale=1./255)\n",
        "\n",
        "train_generator = train_datagen.flow_from_directory(\n",
        "        TRAIN_DIR,\n",
        "        target_size=(64, 64),\n",
        "        batch_size=25,\n",
        "        class_mode='categorical')\n",
        "\n",
        "validation_generator = test_datagen.flow_from_directory(\n",
        "        TEST_DIR,\n",
        "        target_size=(64, 64),\n",
        "        batch_size=25,\n",
        "        class_mode='categorical')"
      ],
      "execution_count": null,
      "outputs": [
        {
          "output_type": "stream",
          "text": [
            "Found 1915 images belonging to 5 classes.\n",
            "Found 257 images belonging to 5 classes.\n"
          ],
          "name": "stdout"
        }
      ]
    },
    {
      "cell_type": "code",
      "metadata": {
        "colab": {
          "base_uri": "https://localhost:8080/"
        },
        "id": "l4F2EK8QvOID",
        "outputId": "be441841-f1f8-4843-957e-7933549e52ca"
      },
      "source": [
        "train_generator.class_indices"
      ],
      "execution_count": null,
      "outputs": [
        {
          "output_type": "execute_result",
          "data": {
            "text/plain": [
              "{'1': 0, '2': 1, '3': 2, '4': 3, '5': 4}"
            ]
          },
          "metadata": {
            "tags": []
          },
          "execution_count": 46
        }
      ]
    },
    {
      "cell_type": "code",
      "metadata": {
        "colab": {
          "base_uri": "https://localhost:8080/"
        },
        "id": "ROWaBYgBwQg-",
        "outputId": "77346175-2900-475a-d8a0-4bde36302ed1"
      },
      "source": [
        "tuner.search(train_generator,\n",
        "              validation_data = validation_generator,epochs=5)"
      ],
      "execution_count": null,
      "outputs": [
        {
          "output_type": "stream",
          "text": [
            "Trial 4 Complete [00h 00m 19s]\n",
            "val_accuracy: 0.26459142565727234\n",
            "\n",
            "Best val_accuracy So Far: 1.0\n",
            "Total elapsed time: 00h 01m 20s\n",
            "INFO:tensorflow:Oracle triggered exit\n"
          ],
          "name": "stdout"
        }
      ]
    },
    {
      "cell_type": "code",
      "metadata": {
        "id": "9x13dX0aw2p4"
      },
      "source": [
        "model=tuner.get_best_models(num_models=1)[0]"
      ],
      "execution_count": null,
      "outputs": []
    },
    {
      "cell_type": "code",
      "metadata": {
        "colab": {
          "base_uri": "https://localhost:8080/"
        },
        "id": "A-FDTX_Kyx7j",
        "outputId": "8d1bc807-7a7c-4b6a-ae65-5c8e9fa4656e"
      },
      "source": [
        "model.summary()"
      ],
      "execution_count": null,
      "outputs": [
        {
          "output_type": "stream",
          "text": [
            "Model: \"sequential\"\n",
            "_________________________________________________________________\n",
            "Layer (type)                 Output Shape              Param #   \n",
            "=================================================================\n",
            "conv2d (Conv2D)              (None, 60, 60, 96)        7296      \n",
            "_________________________________________________________________\n",
            "max_pooling2d (MaxPooling2D) (None, 30, 30, 96)        0         \n",
            "_________________________________________________________________\n",
            "conv2d_1 (Conv2D)            (None, 28, 28, 80)        69200     \n",
            "_________________________________________________________________\n",
            "max_pooling2d_1 (MaxPooling2 (None, 14, 14, 80)        0         \n",
            "_________________________________________________________________\n",
            "flatten (Flatten)            (None, 15680)             0         \n",
            "_________________________________________________________________\n",
            "dense (Dense)                (None, 112)               1756272   \n",
            "_________________________________________________________________\n",
            "dropout (Dropout)            (None, 112)               0         \n",
            "_________________________________________________________________\n",
            "dense_1 (Dense)              (None, 5)                 565       \n",
            "=================================================================\n",
            "Total params: 1,833,333\n",
            "Trainable params: 1,833,333\n",
            "Non-trainable params: 0\n",
            "_________________________________________________________________\n"
          ],
          "name": "stdout"
        }
      ]
    },
    {
      "cell_type": "code",
      "metadata": {
        "colab": {
          "base_uri": "https://localhost:8080/"
        },
        "id": "H9UL2U9WyzPm",
        "outputId": "c3871b59-893c-4ba6-cac1-797f004853dd"
      },
      "source": [
        "model.fit(train_generator,\n",
        "          validation_data = validation_generator,\n",
        "          epochs=10, initial_epoch=3)"
      ],
      "execution_count": null,
      "outputs": [
        {
          "output_type": "stream",
          "text": [
            "Epoch 4/10\n",
            "77/77 [==============================] - 4s 50ms/step - loss: 0.0338 - accuracy: 0.9911 - val_loss: 0.0086 - val_accuracy: 1.0000\n",
            "Epoch 5/10\n",
            "77/77 [==============================] - 4s 48ms/step - loss: 0.0251 - accuracy: 0.9937 - val_loss: 0.0169 - val_accuracy: 1.0000\n",
            "Epoch 6/10\n",
            "77/77 [==============================] - 4s 47ms/step - loss: 0.0196 - accuracy: 0.9937 - val_loss: 0.0521 - val_accuracy: 1.0000\n",
            "Epoch 7/10\n",
            "77/77 [==============================] - 4s 48ms/step - loss: 0.0346 - accuracy: 0.9906 - val_loss: 0.1606 - val_accuracy: 0.8988\n",
            "Epoch 8/10\n",
            "77/77 [==============================] - 4s 48ms/step - loss: 0.0253 - accuracy: 0.9927 - val_loss: 0.0689 - val_accuracy: 0.9728\n",
            "Epoch 9/10\n",
            "77/77 [==============================] - 4s 48ms/step - loss: 0.0257 - accuracy: 0.9922 - val_loss: 0.0227 - val_accuracy: 1.0000\n",
            "Epoch 10/10\n",
            "77/77 [==============================] - 4s 48ms/step - loss: 0.0266 - accuracy: 0.9927 - val_loss: 6.1065e-05 - val_accuracy: 1.0000\n"
          ],
          "name": "stdout"
        },
        {
          "output_type": "execute_result",
          "data": {
            "text/plain": [
              "<tensorflow.python.keras.callbacks.History at 0x7f981f67e438>"
            ]
          },
          "metadata": {
            "tags": []
          },
          "execution_count": 50
        }
      ]
    },
    {
      "cell_type": "code",
      "metadata": {
        "id": "5hdq1Kqv4sfU"
      },
      "source": [
        "!rm -rf /gdrive/MyDrive/ModelTrainedOfHands\n",
        "!mkdir /gdrive/MyDrive/ModelTrainedOfHands"
      ],
      "execution_count": null,
      "outputs": []
    },
    {
      "cell_type": "code",
      "metadata": {
        "id": "DhECRQJgzAyG"
      },
      "source": [
        "model_json = model.to_json()\n",
        "with open(\"/gdrive/MyDrive/ModelTrainedOfHands/model-hand-digits.json\", \"w\") as json_file:\n",
        "    json_file.write(model_json)\n",
        "model.save_weights('/gdrive/MyDrive/ModelTrainedOfHands/model-hand-digits.h5')"
      ],
      "execution_count": null,
      "outputs": []
    },
    {
      "cell_type": "code",
      "metadata": {
        "id": "oDvkBu742pMq"
      },
      "source": [
        "from keras.models import model_from_json"
      ],
      "execution_count": null,
      "outputs": []
    },
    {
      "cell_type": "code",
      "metadata": {
        "colab": {
          "base_uri": "https://localhost:8080/"
        },
        "id": "uXWpgI4M48M9",
        "outputId": "95a6023c-3764-4d07-b601-fc02752a1cd1"
      },
      "source": [
        "json_file = open(\"/gdrive/MyDrive/ModelTrainedOfHands/model-hand-digits.json\", \"r\")\n",
        "model_json = json_file.read()\n",
        "json_file.close()\n",
        "loaded_model = model_from_json(model_json)\n",
        "loaded_model.load_weights(\"/gdrive/MyDrive/ModelTrainedOfHands/model-hand-digits.h5\")\n",
        "print(\"Loaded model from disk\")"
      ],
      "execution_count": null,
      "outputs": [
        {
          "output_type": "stream",
          "text": [
            "Loaded model from disk\n"
          ],
          "name": "stdout"
        }
      ]
    },
    {
      "cell_type": "code",
      "metadata": {
        "id": "IMO_Xp1v5GJt"
      },
      "source": [
        "import numpy as np\n",
        "from keras.preprocessing import image\n",
        "\n",
        "\n",
        "\n",
        "test_image = image.load_img(\"/content/6.jpg\", target_size=(64,64))\n",
        "\n",
        "test_image = image.img_to_array(test_image)\n",
        "\n",
        "test_image = np.expand_dims(test_image, axis = 0)"
      ],
      "execution_count": null,
      "outputs": []
    },
    {
      "cell_type": "code",
      "metadata": {
        "id": "nJL7jpCe5dau"
      },
      "source": [
        "result = loaded_model.predict(test_image)"
      ],
      "execution_count": null,
      "outputs": []
    },
    {
      "cell_type": "code",
      "metadata": {
        "colab": {
          "base_uri": "https://localhost:8080/"
        },
        "id": "CIWh6g9Q5lQt",
        "outputId": "406fce22-ac2f-4c53-8344-68dbc0e256f1"
      },
      "source": [
        "if int(round(result[0][0])):\n",
        "  print(\"One\")\n",
        "elif int(round(result[0][1])):\n",
        "  print(\"Two\")\n",
        "elif int(round(result[0][2])):\n",
        "  print(\"Three\")\n",
        "elif int(round(result[0][3])):\n",
        "  print(\"Four\")\n",
        "elif int(round(result[0][4])):\n",
        "  print(\"Five\")"
      ],
      "execution_count": null,
      "outputs": [
        {
          "output_type": "stream",
          "text": [
            "One\n"
          ],
          "name": "stdout"
        }
      ]
    },
    {
      "cell_type": "code",
      "metadata": {
        "colab": {
          "base_uri": "https://localhost:8080/"
        },
        "id": "MaKl80e_5xOe",
        "outputId": "8ce1b19f-c2f9-4e43-bba8-e9f136ace585"
      },
      "source": [
        "result"
      ],
      "execution_count": null,
      "outputs": [
        {
          "output_type": "execute_result",
          "data": {
            "text/plain": [
              "array([[0., 0., 1., 0., 0.]], dtype=float32)"
            ]
          },
          "metadata": {
            "tags": []
          },
          "execution_count": 22
        }
      ]
    },
    {
      "cell_type": "code",
      "metadata": {
        "id": "9ipdD90o53qR"
      },
      "source": [
        ""
      ],
      "execution_count": null,
      "outputs": []
    }
  ]
}